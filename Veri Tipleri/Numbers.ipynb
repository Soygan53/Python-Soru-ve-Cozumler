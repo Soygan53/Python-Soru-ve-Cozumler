{
  "nbformat": 4,
  "nbformat_minor": 0,
  "metadata": {
    "colab": {
      "provenance": []
    },
    "kernelspec": {
      "name": "python3",
      "display_name": "Python 3"
    },
    "language_info": {
      "name": "python"
    }
  },
  "cells": [
    {
      "cell_type": "code",
      "source": [
        "\"\"\"\n",
        "Created on Monday Sep 23 12:08 2024\n",
        "\n",
        "@author: Ahmet Sina Soykan\n",
        "-------------------------------------------------------------------------------------------------\n",
        "TASK:\n",
        "\n",
        "Create a function with two parameters a and b. The function calculates the following expression:\n",
        "\n",
        "(12 * a + 25 * b) / (1 + a**(2**b))\n",
        "and returns a result of the expression rounded up to the second decimal place.\n",
        "-------------------------------------------------------------------------------------------------\n",
        "\n",
        "\"\"\"\n",
        "\n",
        "from typing import Union\n",
        "\n",
        "NumType = Union[int, float]\n",
        "\n",
        "def some_expression_with_rounding(a: NumType, b: NumType) -> NumType:\n",
        "  result = (12 * a + 25 * b) / (1 + a**(2**b))\n",
        "  result = round(result, 2)\n",
        "  return result\n"
      ],
      "metadata": {
        "id": "SHnd1gWirY_y"
      },
      "execution_count": null,
      "outputs": []
    },
    {
      "cell_type": "code",
      "source": [
        "some_expression_with_rounding(4,2)"
      ],
      "metadata": {
        "colab": {
          "base_uri": "https://localhost:8080/"
        },
        "id": "MTbUISUft3JM",
        "outputId": "73515330-e9de-4b78-a59b-4301844590fc"
      },
      "execution_count": null,
      "outputs": [
        {
          "output_type": "execute_result",
          "data": {
            "text/plain": [
              "0.38"
            ]
          },
          "metadata": {},
          "execution_count": 3
        }
      ]
    }
  ]
}