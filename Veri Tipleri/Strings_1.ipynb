{
  "nbformat": 4,
  "nbformat_minor": 0,
  "metadata": {
    "colab": {
      "provenance": []
    },
    "kernelspec": {
      "name": "python3",
      "display_name": "Python 3"
    },
    "language_info": {
      "name": "python"
    }
  },
  "cells": [
    {
      "cell_type": "code",
      "source": [
        "\"\"\"\n",
        "Created on Monday Sep 23 12:33 2024\n",
        "\n",
        "@author: Ahmet Sina Soykan\n",
        "-------------------------------------------------------------------------------------------------\n",
        "TASK:\n",
        "\n",
        "Create a function that takes two parameters of string type which are fractions with the same denominator and returns a sum expression of these fractions and the sum result.\n",
        ">>> a_b = '1/3'\n",
        ">>> c_b = '5/3'\n",
        ">>> get_fractions(a_b, c_b)\n",
        "'1/3 + 5/3 = 6/3'\n",
        "-------------------------------------------------------------------------------------------------\n",
        "\n",
        "\"\"\"\n",
        "\n",
        "def get_fractions(a_b: str, c_b: str) -> str:\n",
        "  if(a_b[1]==\"/\"):\n",
        "    x= int(a_b[0])\n",
        "    y=int(c_b[0])\n",
        "    z=x+y\n",
        "    z=str(z)\n",
        "    new = z + c_b[1:]\n",
        "    solution = a_b+\" + \"+c_b+\" = \"+new\n",
        "    return(solution)\n",
        "  elif(a_b[2]==\"/\"):\n",
        "    x= int(a_b[0:2])\n",
        "    y=int(c_b[0:2])\n",
        "    z=x+y\n",
        "    z=str(z)\n",
        "    new = z + c_b[2:]\n",
        "    solution = a_b+\" + \"+c_b+\" = \"+new\n",
        "    return(solution)"
      ],
      "metadata": {
        "id": "SHnd1gWirY_y"
      },
      "execution_count": null,
      "outputs": []
    },
    {
      "cell_type": "code",
      "source": [
        "get_fractions(\"11/2\",\"24/2\")"
      ],
      "metadata": {
        "colab": {
          "base_uri": "https://localhost:8080/",
          "height": 36
        },
        "id": "MTbUISUft3JM",
        "outputId": "94f91053-d8ea-446e-de7a-95665f56efcf"
      },
      "execution_count": null,
      "outputs": [
        {
          "output_type": "execute_result",
          "data": {
            "text/plain": [
              "'11/2 + 24/2 = 35/2'"
            ],
            "application/vnd.google.colaboratory.intrinsic+json": {
              "type": "string"
            }
          },
          "metadata": {},
          "execution_count": 11
        }
      ]
    }
  ]
}