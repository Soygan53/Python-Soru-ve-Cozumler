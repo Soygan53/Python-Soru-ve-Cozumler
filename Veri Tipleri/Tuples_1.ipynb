{
  "nbformat": 4,
  "nbformat_minor": 0,
  "metadata": {
    "colab": {
      "provenance": []
    },
    "kernelspec": {
      "name": "python3",
      "display_name": "Python 3"
    },
    "language_info": {
      "name": "python"
    }
  },
  "cells": [
    {
      "cell_type": "code",
      "source": [
        "\"\"\"\n",
        "Created on Tuesday Sep 24 11:28 2024\n",
        "\n",
        "@author: Ahmet Sina Soykan\n",
        "-------------------------------------------------------------------------------------------------\n",
        "TASK:\n",
        "\n",
        "Implement a function get_tuple(num: int) -> Tuple[int] which returns a tuple of a given integer's digits.\n",
        "\n",
        ">>> get_tuple(87178291199)\n",
        "(8, 7, 1, 7, 8, 2, 9, 1, 1, 9, 9)\n",
        "-------------------------------------------------------------------------------------------------\n",
        "\n",
        "\"\"\"\n",
        "\n",
        "from typing import Tuple\n",
        "\n",
        "def get_tuple(num: int) -> Tuple[int]:\n",
        "    our_tuple = tuple(int(i) for i in str(num))\n",
        "    return our_tuple"
      ],
      "metadata": {
        "id": "SHnd1gWirY_y"
      },
      "execution_count": 19,
      "outputs": []
    },
    {
      "cell_type": "code",
      "source": [
        "get_tuple(47418573469812)"
      ],
      "metadata": {
        "colab": {
          "base_uri": "https://localhost:8080/"
        },
        "id": "MTbUISUft3JM",
        "outputId": "31f8a3d1-b0bc-4b3f-9464-19bf792dd16c"
      },
      "execution_count": 21,
      "outputs": [
        {
          "output_type": "execute_result",
          "data": {
            "text/plain": [
              "(4, 7, 4, 1, 8, 5, 7, 3, 4, 6, 9, 8, 1, 2)"
            ]
          },
          "metadata": {},
          "execution_count": 21
        }
      ]
    }
  ]
}