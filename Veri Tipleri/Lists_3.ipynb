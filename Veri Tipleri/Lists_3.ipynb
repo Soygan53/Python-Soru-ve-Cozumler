{
  "nbformat": 4,
  "nbformat_minor": 0,
  "metadata": {
    "colab": {
      "provenance": []
    },
    "kernelspec": {
      "name": "python3",
      "display_name": "Python 3"
    },
    "language_info": {
      "name": "python"
    }
  },
  "cells": [
    {
      "cell_type": "code",
      "source": [
        "\"\"\"\n",
        "Created on Monday Sep 23 15:57 2024\n",
        "\n",
        "@author: Ahmet Sina Soykan\n",
        "-------------------------------------------------------------------------------------------------\n",
        "TASK:\n",
        "\n",
        "Implement a function foo(List[int]) -> List[int] which, given a list of integers, returns a new list\n",
        " such that each element at index i of the new list is the product of all the numbers in the original\n",
        " array except the one at i.\n",
        "\n",
        " >>> foo([1, 2, 3, 4, 5])\n",
        "[120, 60, 40, 30, 24]\n",
        ">>>foo([3, 2, 1])\n",
        "[2, 3, 6]\n",
        "-------------------------------------------------------------------------------------------------\n",
        "\n",
        "\"\"\"\n",
        "\n",
        "from typing import List\n",
        "\n",
        "def foo(nums: List[int]) -> List[int]:\n",
        "    new_list=[]\n",
        "    carpim=1\n",
        "    for i in nums:\n",
        "      carpim=carpim*i\n",
        "    new_list = [carpim // x for x in nums]\n",
        "    return new_list\n"
      ],
      "metadata": {
        "id": "SHnd1gWirY_y"
      },
      "execution_count": 16,
      "outputs": []
    },
    {
      "cell_type": "code",
      "source": [
        "foo([1, 2, 3, 4, 5])"
      ],
      "metadata": {
        "colab": {
          "base_uri": "https://localhost:8080/"
        },
        "id": "MTbUISUft3JM",
        "outputId": "ed745052-050d-48f2-ac09-38dc097c9bfd"
      },
      "execution_count": 17,
      "outputs": [
        {
          "output_type": "execute_result",
          "data": {
            "text/plain": [
              "[120, 60, 40, 30, 24]"
            ]
          },
          "metadata": {},
          "execution_count": 17
        }
      ]
    }
  ]
}