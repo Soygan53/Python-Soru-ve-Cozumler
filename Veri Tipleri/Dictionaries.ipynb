{
  "nbformat": 4,
  "nbformat_minor": 0,
  "metadata": {
    "colab": {
      "provenance": []
    },
    "kernelspec": {
      "name": "python3",
      "display_name": "Python 3"
    },
    "language_info": {
      "name": "python"
    }
  },
  "cells": [
    {
      "cell_type": "code",
      "source": [
        "\"\"\"\n",
        "Created on Tuesday Sep 24 11:51 2024\n",
        "\n",
        "@author: Ahmet Sina Soykan\n",
        "-------------------------------------------------------------------------------------------------\n",
        "TASK:\n",
        "\n",
        "Write a Python program to count the frequency of each character in a string (ignore the case of letters).\n",
        "\n",
        "\n",
        "Input: 'Oh, it is python'\n",
        "\n",
        "Output: {\" \": 3, \",\": 1, \"h\": 2, \"i\": 2, \"n\": 1, \"o\": 2, \"p\": 1, \"s\": 1, \"t\": 2, \"y\": 1}\n",
        "-------------------------------------------------------------------------------------------------\n",
        "\n",
        "\"\"\"\n",
        "\n",
        "from typing import Dict\n",
        "\n",
        "\n",
        "def get_dict(s: str) -> Dict[str, int]:\n",
        "    sayim = {}\n",
        "    for c in set(s):\n",
        "       sayim[c] = s.count(c)\n",
        "    return sayim"
      ],
      "metadata": {
        "id": "SHnd1gWirY_y"
      },
      "execution_count": 25,
      "outputs": []
    },
    {
      "cell_type": "code",
      "source": [
        "get_dict(\"Naber la tırrek\")"
      ],
      "metadata": {
        "colab": {
          "base_uri": "https://localhost:8080/"
        },
        "id": "MTbUISUft3JM",
        "outputId": "a3db413a-9499-49fe-d34c-21aa5bb113f8"
      },
      "execution_count": 26,
      "outputs": [
        {
          "output_type": "execute_result",
          "data": {
            "text/plain": [
              "{'t': 1,\n",
              " ' ': 2,\n",
              " 'a': 2,\n",
              " 'N': 1,\n",
              " 'k': 1,\n",
              " 'ı': 1,\n",
              " 'e': 2,\n",
              " 'r': 3,\n",
              " 'l': 1,\n",
              " 'b': 1}"
            ]
          },
          "metadata": {},
          "execution_count": 26
        }
      ]
    }
  ]
}