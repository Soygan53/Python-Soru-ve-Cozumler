{
  "nbformat": 4,
  "nbformat_minor": 0,
  "metadata": {
    "colab": {
      "provenance": []
    },
    "kernelspec": {
      "name": "python3",
      "display_name": "Python 3"
    },
    "language_info": {
      "name": "python"
    }
  },
  "cells": [
    {
      "cell_type": "code",
      "source": [
        "\"\"\"\n",
        "Created on Monday Sep 23 13:03 2024\n",
        "\n",
        "@author: Ahmet Sina Soykan\n",
        "-------------------------------------------------------------------------------------------------\n",
        "TASK:\n",
        "\n",
        "Implement a function get_longest_word(s: str) -> str which returns the longest word in the given string.\n",
        "The word can contain any symbols except whitespaces (' ', '\\n', '\\t' and so on).\n",
        "If there are multiple longest words in the string with the same length return the word that occurs first.\n",
        ">>> get_longest_word('Python is simple and effective!')\n",
        "'effective!'\n",
        "-------------------------------------------------------------------------------------------------\n",
        "\n",
        "\"\"\"\n",
        "\n",
        "def get_longest_word(s: str) -> str:\n",
        "    words = s.split()\n",
        "    longest_word = \"\"\n",
        "    for word in words:\n",
        "        if len(word) > len(longest_word):\n",
        "            longest_word = word\n",
        "    return longest_word"
      ],
      "metadata": {
        "id": "SHnd1gWirY_y"
      },
      "execution_count": null,
      "outputs": []
    },
    {
      "cell_type": "code",
      "source": [
        "get_longest_word(\"Merhaba, benim ismim Ahmet Sina SOKAN. Bu çalışma insanoğluna armağanımdır.\")"
      ],
      "metadata": {
        "colab": {
          "base_uri": "https://localhost:8080/",
          "height": 36
        },
        "id": "MTbUISUft3JM",
        "outputId": "257a53ad-7717-4b35-8e9b-c041cb99e5f6"
      },
      "execution_count": null,
      "outputs": [
        {
          "output_type": "execute_result",
          "data": {
            "text/plain": [
              "'armağanımdır.'"
            ],
            "application/vnd.google.colaboratory.intrinsic+json": {
              "type": "string"
            }
          },
          "metadata": {},
          "execution_count": 13
        }
      ]
    }
  ]
}