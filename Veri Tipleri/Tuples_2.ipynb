{
  "nbformat": 4,
  "nbformat_minor": 0,
  "metadata": {
    "colab": {
      "provenance": []
    },
    "kernelspec": {
      "name": "python3",
      "display_name": "Python 3"
    },
    "language_info": {
      "name": "python"
    }
  },
  "cells": [
    {
      "cell_type": "code",
      "source": [
        "\"\"\"\n",
        "Created on Tuesday Sep 24 11:40 2024\n",
        "\n",
        "@author: Ahmet Sina Soykan\n",
        "-------------------------------------------------------------------------------------------------\n",
        "TASK:\n",
        "\n",
        "Implement a function get_pairs(lst: List) -> List[Tuple] which returns a list of tuples containing pairs of elements.\n",
        " The pairs should be formed as in the example. If there is only one element in the list, return [] instead.\n",
        "\n",
        ">>> get_pairs([1, 2, 3, 8, 9])\n",
        "[(1, 2), (2, 3), (3, 8), (8, 9)]\n",
        ">>> get_pairs(['need', 'to', 'sleep', 'more'])\n",
        "[('need', 'to'), ('to', 'sleep'), ('sleep', 'more')]\n",
        ">>> get_pairs([1])\n",
        "[]\n",
        "-------------------------------------------------------------------------------------------------\n",
        "\n",
        "\"\"\"\n",
        "\n",
        "from typing import Any, Tuple, List\n",
        "\n",
        "def get_pairs(lst: List[Any]) -> List[Tuple[Any, Any]]:\n",
        "    pairs = []\n",
        "    for i in range(len(lst) - 1):\n",
        "        pairs.append((lst[i], lst[i + 1]))\n",
        "    return pairs"
      ],
      "metadata": {
        "id": "SHnd1gWirY_y"
      },
      "execution_count": 23,
      "outputs": []
    },
    {
      "cell_type": "code",
      "source": [
        "get_pairs([1, 2, 3, 8, 9])"
      ],
      "metadata": {
        "colab": {
          "base_uri": "https://localhost:8080/"
        },
        "id": "MTbUISUft3JM",
        "outputId": "22b08f7b-3a32-4e0f-9059-a6066373c085"
      },
      "execution_count": 24,
      "outputs": [
        {
          "output_type": "execute_result",
          "data": {
            "text/plain": [
              "[(1, 2), (2, 3), (3, 8), (8, 9)]"
            ]
          },
          "metadata": {},
          "execution_count": 24
        }
      ]
    }
  ]
}