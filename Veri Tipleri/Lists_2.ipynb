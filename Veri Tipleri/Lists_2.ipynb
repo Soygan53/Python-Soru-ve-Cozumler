{
  "nbformat": 4,
  "nbformat_minor": 0,
  "metadata": {
    "colab": {
      "provenance": []
    },
    "kernelspec": {
      "name": "python3",
      "display_name": "Python 3"
    },
    "language_info": {
      "name": "python"
    }
  },
  "cells": [
    {
      "cell_type": "code",
      "source": [
        "\"\"\"\n",
        "Created on Monday Sep 23 15:40 2024\n",
        "\n",
        "@author: Ahmet Sina Soykan\n",
        "-------------------------------------------------------------------------------------------------\n",
        "TASK:\n",
        "\n",
        "Update the get_fizzbuzz_list function. The function has to generate and return a list with numbers from\n",
        "1 to n inclusive where the n is passed as a parameter to the function. But if the number is divided by 3\n",
        "the function puts a Fizz word into the list, and if the number is divided by 5 the function puts a Buzz\n",
        "word into the list. If the number is divided by both 3 and 5 the function puts FizzBuzz into the list.\n",
        "-------------------------------------------------------------------------------------------------\n",
        "\n",
        "\"\"\"\n",
        "\n",
        "from typing import Union, List\n",
        "\n",
        "ListType = List[Union[int, str]]\n",
        "\n",
        "def get_fizzbuzz_list(n: int) -> ListType:\n",
        "    listem=[]\n",
        "    for i in range(1,n+1):\n",
        "        if((i%3==0)and(i%5==0)):\n",
        "            listem.append(\"FizzBuzz\")\n",
        "        elif(i%3==0):\n",
        "            listem.append(\"Fizz\")\n",
        "        elif(i%5==0):\n",
        "            listem.append(\"Buzz\")\n",
        "        else:\n",
        "            listem.append(i)\n",
        "    return listem"
      ],
      "metadata": {
        "id": "SHnd1gWirY_y"
      },
      "execution_count": 14,
      "outputs": []
    },
    {
      "cell_type": "code",
      "source": [
        "get_fizzbuzz_list(14)"
      ],
      "metadata": {
        "colab": {
          "base_uri": "https://localhost:8080/"
        },
        "id": "MTbUISUft3JM",
        "outputId": "53b618d0-3d87-4d53-ef3c-5393644351de"
      },
      "execution_count": 15,
      "outputs": [
        {
          "output_type": "execute_result",
          "data": {
            "text/plain": [
              "[1, 2, 'Fizz', 4, 'Buzz', 'Fizz', 7, 8, 'Fizz', 'Buzz', 11, 'Fizz', 13, 14]"
            ]
          },
          "metadata": {},
          "execution_count": 15
        }
      ]
    }
  ]
}