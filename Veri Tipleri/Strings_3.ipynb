{
  "nbformat": 4,
  "nbformat_minor": 0,
  "metadata": {
    "colab": {
      "provenance": []
    },
    "kernelspec": {
      "name": "python3",
      "display_name": "Python 3"
    },
    "language_info": {
      "name": "python"
    }
  },
  "cells": [
    {
      "cell_type": "code",
      "source": [
        "\"\"\"\n",
        "Created on Monday Sep 23 13:19 2024\n",
        "\n",
        "@author: Ahmet Sina Soykan\n",
        "-------------------------------------------------------------------------------------------------\n",
        "TASK:\n",
        "\n",
        "Implement a function that receives a string and replaces all \" symbols with ' and vice versa.\n",
        "-------------------------------------------------------------------------------------------------\n",
        "\n",
        "\"\"\"\n",
        "\n",
        "def replacer(s: str) -> str:\n",
        "    s = s.replace('\"', '%temp%').replace(\"'\", '\"').replace('%temp%', \"'\")\n",
        "    return s"
      ],
      "metadata": {
        "id": "SHnd1gWirY_y"
      },
      "execution_count": 1,
      "outputs": []
    },
    {
      "cell_type": "code",
      "source": [
        "replacer(\"\"\"c\"d\"e'-c'd'e\"\"\")"
      ],
      "metadata": {
        "colab": {
          "base_uri": "https://localhost:8080/",
          "height": 36
        },
        "id": "MTbUISUft3JM",
        "outputId": "d3001f12-dff6-4867-8490-3bfd03d7a30c"
      },
      "execution_count": 3,
      "outputs": [
        {
          "output_type": "execute_result",
          "data": {
            "text/plain": [
              "'c\\'d\\'e\"-c\"d\"e'"
            ],
            "application/vnd.google.colaboratory.intrinsic+json": {
              "type": "string"
            }
          },
          "metadata": {},
          "execution_count": 3
        }
      ]
    }
  ]
}