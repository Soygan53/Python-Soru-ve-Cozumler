{
  "nbformat": 4,
  "nbformat_minor": 0,
  "metadata": {
    "colab": {
      "provenance": []
    },
    "kernelspec": {
      "name": "python3",
      "display_name": "Python 3"
    },
    "language_info": {
      "name": "python"
    }
  },
  "cells": [
    {
      "cell_type": "code",
      "source": [
        "\"\"\"\n",
        "Created on Monday Sep 23 15:10 2024\n",
        "\n",
        "@author: Ahmet Sina Soykan\n",
        "-------------------------------------------------------------------------------------------------\n",
        "TASK:\n",
        "\n",
        "Write a function that checks whether a string is a palindrome or not. The usage of any reversing functions is prohibited.\n",
        "\n",
        "To check your implementation you can use strings from here\n",
        "\n",
        "A dog! A panic in a pagoda!\n",
        "Do nine men Interpret? Nine men I nod\n",
        "T. Eliot, top bard, notes putrid tang emanating, is sad; I'd assign it a name: gnat dirt upset on drab pot toilet.\n",
        "A man, a plan, a canal — Panama!\n",
        "-------------------------------------------------------------------------------------------------\n",
        "\n",
        "\"\"\"\n",
        "\n",
        "import re\n",
        "def check_str(s: str):\n",
        "  status =True\n",
        "  s = re.sub(r'[^a-zA-Z0-9]', '', s)\n",
        "  s = s.lower()\n",
        "  if((len(s)%2)==0):\n",
        "    x=int(len(s)/2)\n",
        "    ilk_yari=s[0:x]\n",
        "    ikinci_yari=s[x:len(s)]\n",
        "    if(ilk_yari==ikinci_yari[::-1]):\n",
        "      status=True\n",
        "    else:\n",
        "      status=False\n",
        "  else:\n",
        "    x=int(len(s)/2)\n",
        "    ilk_yari=s[0:x]\n",
        "    ikinci_yari=s[x+1:len(s)]\n",
        "    if(ilk_yari==ikinci_yari[::-1]):\n",
        "      status=True\n",
        "    else:\n",
        "      status=False\n",
        "  return status\n"
      ],
      "metadata": {
        "id": "SHnd1gWirY_y"
      },
      "execution_count": 5,
      "outputs": []
    },
    {
      "cell_type": "code",
      "source": [
        "check_str(\"A dog! A panic in a pagoda!\")"
      ],
      "metadata": {
        "colab": {
          "base_uri": "https://localhost:8080/"
        },
        "id": "MTbUISUft3JM",
        "outputId": "3b0fb573-dfd0-4019-b53c-2ce75039e1b6"
      },
      "execution_count": 6,
      "outputs": [
        {
          "output_type": "execute_result",
          "data": {
            "text/plain": [
              "True"
            ]
          },
          "metadata": {},
          "execution_count": 6
        }
      ]
    },
    {
      "cell_type": "code",
      "source": [
        "check_str(\"Naber la tırrek\")"
      ],
      "metadata": {
        "colab": {
          "base_uri": "https://localhost:8080/"
        },
        "id": "Cozj9nW4w_L4",
        "outputId": "6669947d-7f91-41e4-f20e-fde7e8767c08"
      },
      "execution_count": 7,
      "outputs": [
        {
          "output_type": "execute_result",
          "data": {
            "text/plain": [
              "False"
            ]
          },
          "metadata": {},
          "execution_count": 7
        }
      ]
    }
  ]
}