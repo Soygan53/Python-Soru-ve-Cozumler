{
  "nbformat": 4,
  "nbformat_minor": 0,
  "metadata": {
    "colab": {
      "provenance": []
    },
    "kernelspec": {
      "name": "python3",
      "display_name": "Python 3"
    },
    "language_info": {
      "name": "python"
    }
  },
  "cells": [
    {
      "cell_type": "code",
      "source": [
        "\"\"\"\n",
        "Created on Monday Sep 23 15:22 2024\n",
        "\n",
        "@author: Ahmet Sina Soykan\n",
        "-------------------------------------------------------------------------------------------------\n",
        "TASK:\n",
        "\n",
        "Write a Python program that accepts a sequence of words as input and prints the unique words in a sorted form.\n",
        "\n",
        "Input:\n",
        "\n",
        "('red', 'white', 'black', 'red', 'green', 'black')\n",
        "Output:\n",
        "\n",
        "['black', 'green', 'red', 'white']\n",
        "-------------------------------------------------------------------------------------------------\n",
        "\n",
        "\"\"\"\n",
        "\n",
        "from typing import List, Tuple\n",
        "\n",
        "def sort_unique_elements(str_list: Tuple[str]) -> List[str]:\n",
        "    set_list=set(str_list)\n",
        "    main_list=list(set_list)\n",
        "    main_list.sort()\n",
        "    return main_list"
      ],
      "metadata": {
        "id": "SHnd1gWirY_y"
      },
      "execution_count": 9,
      "outputs": []
    },
    {
      "cell_type": "code",
      "source": [
        "sort_unique_elements(['red', 'white', 'black', 'red', 'green', 'black'])"
      ],
      "metadata": {
        "colab": {
          "base_uri": "https://localhost:8080/"
        },
        "id": "MTbUISUft3JM",
        "outputId": "eceb2f91-c973-49b5-eb36-e10a5177e21c"
      },
      "execution_count": 12,
      "outputs": [
        {
          "output_type": "execute_result",
          "data": {
            "text/plain": [
              "['black', 'green', 'red', 'white']"
            ]
          },
          "metadata": {},
          "execution_count": 12
        }
      ]
    }
  ]
}