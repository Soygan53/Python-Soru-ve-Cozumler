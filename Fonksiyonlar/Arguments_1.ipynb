{
  "nbformat": 4,
  "nbformat_minor": 0,
  "metadata": {
    "colab": {
      "provenance": []
    },
    "kernelspec": {
      "name": "python3",
      "display_name": "Python 3"
    },
    "language_info": {
      "name": "python"
    }
  },
  "cells": [
    {
      "cell_type": "code",
      "source": [
        "\"\"\"\n",
        "Created on Wednesday Sep 25 12:49 2024\n",
        "\n",
        "@author: Ahmet Sina Soykan\n",
        "-------------------------------------------------------------------------------------------------\n",
        "TASK:\n",
        "\n",
        "Implement a function that takes a number as an argument and returns a dictionary, where a key is a number, and the value is the square of that number.\n",
        "\n",
        "Example:\n",
        "\n",
        ">>> generate_squares(5)\n",
        "{1: 1, 2: 4, 3: 9, 4: 16, 5: 25}\n",
        "-------------------------------------------------------------------------------------------------\n",
        "\n",
        "\"\"\"\n",
        "\n",
        "from typing import Dict\n",
        "\n",
        "def generate_squares(num: int)-> Dict[int, int]:\n",
        "    dict1={}\n",
        "    for i in range(1,num+1):\n",
        "      dict1.update({i:i**2})\n",
        "    return dict1"
      ],
      "metadata": {
        "id": "SHnd1gWirY_y"
      },
      "execution_count": 28,
      "outputs": []
    },
    {
      "cell_type": "code",
      "source": [
        "generate_squares(4)"
      ],
      "metadata": {
        "colab": {
          "base_uri": "https://localhost:8080/"
        },
        "id": "MTbUISUft3JM",
        "outputId": "60e83f0a-20a4-464e-b410-2b4bed9e7116"
      },
      "execution_count": 29,
      "outputs": [
        {
          "output_type": "execute_result",
          "data": {
            "text/plain": [
              "{1: 1, 2: 4, 3: 9, 4: 16}"
            ]
          },
          "metadata": {},
          "execution_count": 29
        }
      ]
    }
  ]
}